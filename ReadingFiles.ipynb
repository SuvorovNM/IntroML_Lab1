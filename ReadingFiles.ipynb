{
 "cells": [
  {
   "cell_type": "markdown",
   "metadata": {},
   "source": [
    "# Обработка первого файла 'casc-resto.csv'"
   ]
  },
  {
   "cell_type": "markdown",
   "metadata": {},
   "source": [
    "### Чтение файла"
   ]
  },
  {
   "cell_type": "code",
   "execution_count": 175,
   "metadata": {},
   "outputs": [],
   "source": [
    "import pandas as pd"
   ]
  },
  {
   "cell_type": "code",
   "execution_count": 176,
   "metadata": {},
   "outputs": [],
   "source": [
    "df1 = pd.read_csv('casc-resto.csv', sep=';', decimal=',')"
   ]
  },
  {
   "cell_type": "code",
   "execution_count": 177,
   "metadata": {},
   "outputs": [
    {
     "data": {
      "text/html": [
       "<div>\n",
       "<style scoped>\n",
       "    .dataframe tbody tr th:only-of-type {\n",
       "        vertical-align: middle;\n",
       "    }\n",
       "\n",
       "    .dataframe tbody tr th {\n",
       "        vertical-align: top;\n",
       "    }\n",
       "\n",
       "    .dataframe thead th {\n",
       "        text-align: right;\n",
       "    }\n",
       "</style>\n",
       "<table border=\"1\" class=\"dataframe\">\n",
       "  <thead>\n",
       "    <tr style=\"text-align: right;\">\n",
       "      <th></th>\n",
       "      <th>CustomerID</th>\n",
       "      <th>Restaurant</th>\n",
       "      <th>RKDate</th>\n",
       "      <th>RegionName</th>\n",
       "      <th>BrandsNames</th>\n",
       "      <th>DishCategoryName</th>\n",
       "      <th>Quantity</th>\n",
       "      <th>SummBasic</th>\n",
       "      <th>SummAfterPointsUsage</th>\n",
       "    </tr>\n",
       "  </thead>\n",
       "  <tbody>\n",
       "    <tr>\n",
       "      <th>0</th>\n",
       "      <td>2898197</td>\n",
       "      <td>391</td>\n",
       "      <td>2017-07-16</td>\n",
       "      <td>Москва и Московская область</td>\n",
       "      <td>TGI FRIDAYS</td>\n",
       "      <td>NON ALCOHOL</td>\n",
       "      <td>2</td>\n",
       "      <td>2.0</td>\n",
       "      <td>2.0</td>\n",
       "    </tr>\n",
       "    <tr>\n",
       "      <th>1</th>\n",
       "      <td>2903215</td>\n",
       "      <td>43</td>\n",
       "      <td>2015-04-07</td>\n",
       "      <td>Москва и Московская область</td>\n",
       "      <td>IL Патио</td>\n",
       "      <td>NON ALCOHOL</td>\n",
       "      <td>1</td>\n",
       "      <td>5.0</td>\n",
       "      <td>5.0</td>\n",
       "    </tr>\n",
       "    <tr>\n",
       "      <th>2</th>\n",
       "      <td>2748887</td>\n",
       "      <td>43</td>\n",
       "      <td>2015-05-22</td>\n",
       "      <td>Москва и Московская область</td>\n",
       "      <td>IL Патио</td>\n",
       "      <td>NON ALCOHOL</td>\n",
       "      <td>1</td>\n",
       "      <td>5.0</td>\n",
       "      <td>5.0</td>\n",
       "    </tr>\n",
       "    <tr>\n",
       "      <th>3</th>\n",
       "      <td>2862077</td>\n",
       "      <td>46</td>\n",
       "      <td>2015-03-05</td>\n",
       "      <td>Москва и Московская область</td>\n",
       "      <td>IL Патио</td>\n",
       "      <td>NON ALCOHOL</td>\n",
       "      <td>1</td>\n",
       "      <td>5.0</td>\n",
       "      <td>5.0</td>\n",
       "    </tr>\n",
       "    <tr>\n",
       "      <th>4</th>\n",
       "      <td>2862077</td>\n",
       "      <td>46</td>\n",
       "      <td>2015-03-11</td>\n",
       "      <td>Москва и Московская область</td>\n",
       "      <td>IL Патио</td>\n",
       "      <td>NON ALCOHOL</td>\n",
       "      <td>1</td>\n",
       "      <td>5.0</td>\n",
       "      <td>5.0</td>\n",
       "    </tr>\n",
       "  </tbody>\n",
       "</table>\n",
       "</div>"
      ],
      "text/plain": [
       "   CustomerID  Restaurant      RKDate                    RegionName  \\\n",
       "0     2898197         391  2017-07-16  Москва и Московская область    \n",
       "1     2903215          43  2015-04-07  Москва и Московская область    \n",
       "2     2748887          43  2015-05-22  Москва и Московская область    \n",
       "3     2862077          46  2015-03-05  Москва и Московская область    \n",
       "4     2862077          46  2015-03-11  Москва и Московская область    \n",
       "\n",
       "   BrandsNames DishCategoryName  Quantity  SummBasic  SummAfterPointsUsage  \n",
       "0  TGI FRIDAYS      NON ALCOHOL         2        2.0                   2.0  \n",
       "1     IL Патио      NON ALCOHOL         1        5.0                   5.0  \n",
       "2     IL Патио      NON ALCOHOL         1        5.0                   5.0  \n",
       "3     IL Патио      NON ALCOHOL         1        5.0                   5.0  \n",
       "4     IL Патио      NON ALCOHOL         1        5.0                   5.0  "
      ]
     },
     "execution_count": 177,
     "metadata": {},
     "output_type": "execute_result"
    }
   ],
   "source": [
    "df1.head()"
   ]
  },
  {
   "cell_type": "code",
   "execution_count": 178,
   "metadata": {},
   "outputs": [
    {
     "name": "stdout",
     "output_type": "stream",
     "text": [
      "<class 'pandas.core.frame.DataFrame'>\n",
      "RangeIndex: 882222 entries, 0 to 882221\n",
      "Data columns (total 9 columns):\n",
      " #   Column                Non-Null Count   Dtype  \n",
      "---  ------                --------------   -----  \n",
      " 0   CustomerID            882222 non-null  int64  \n",
      " 1   Restaurant            882222 non-null  int64  \n",
      " 2   RKDate                882222 non-null  object \n",
      " 3   RegionName            882222 non-null  object \n",
      " 4   BrandsNames           882222 non-null  object \n",
      " 5   DishCategoryName      881608 non-null  object \n",
      " 6   Quantity              882222 non-null  int64  \n",
      " 7   SummBasic             882222 non-null  float64\n",
      " 8   SummAfterPointsUsage  882222 non-null  float64\n",
      "dtypes: float64(2), int64(3), object(4)\n",
      "memory usage: 60.6+ MB\n"
     ]
    }
   ],
   "source": [
    "df1.info()"
   ]
  },
  {
   "cell_type": "markdown",
   "metadata": {},
   "source": [
    "### Приведение RKDate к datetime"
   ]
  },
  {
   "cell_type": "code",
   "execution_count": 179,
   "metadata": {},
   "outputs": [],
   "source": [
    "df1['RKDate'] = pd.to_datetime(df1['RKDate'])"
   ]
  },
  {
   "cell_type": "code",
   "execution_count": 180,
   "metadata": {},
   "outputs": [
    {
     "data": {
      "text/html": [
       "<div>\n",
       "<style scoped>\n",
       "    .dataframe tbody tr th:only-of-type {\n",
       "        vertical-align: middle;\n",
       "    }\n",
       "\n",
       "    .dataframe tbody tr th {\n",
       "        vertical-align: top;\n",
       "    }\n",
       "\n",
       "    .dataframe thead th {\n",
       "        text-align: right;\n",
       "    }\n",
       "</style>\n",
       "<table border=\"1\" class=\"dataframe\">\n",
       "  <thead>\n",
       "    <tr style=\"text-align: right;\">\n",
       "      <th></th>\n",
       "      <th>CustomerID</th>\n",
       "      <th>Restaurant</th>\n",
       "      <th>Quantity</th>\n",
       "      <th>SummBasic</th>\n",
       "      <th>SummAfterPointsUsage</th>\n",
       "    </tr>\n",
       "  </thead>\n",
       "  <tbody>\n",
       "    <tr>\n",
       "      <th>count</th>\n",
       "      <td>8.822220e+05</td>\n",
       "      <td>882222.000000</td>\n",
       "      <td>882222.000000</td>\n",
       "      <td>882222.000000</td>\n",
       "      <td>882222.000000</td>\n",
       "    </tr>\n",
       "    <tr>\n",
       "      <th>mean</th>\n",
       "      <td>2.809199e+06</td>\n",
       "      <td>468.268804</td>\n",
       "      <td>1.154900</td>\n",
       "      <td>287.725795</td>\n",
       "      <td>260.255589</td>\n",
       "    </tr>\n",
       "    <tr>\n",
       "      <th>std</th>\n",
       "      <td>6.178420e+04</td>\n",
       "      <td>279.170967</td>\n",
       "      <td>0.650287</td>\n",
       "      <td>264.555291</td>\n",
       "      <td>251.289517</td>\n",
       "    </tr>\n",
       "    <tr>\n",
       "      <th>min</th>\n",
       "      <td>2.728046e+06</td>\n",
       "      <td>40.000000</td>\n",
       "      <td>0.000000</td>\n",
       "      <td>0.500000</td>\n",
       "      <td>-2593.000000</td>\n",
       "    </tr>\n",
       "    <tr>\n",
       "      <th>25%</th>\n",
       "      <td>2.754886e+06</td>\n",
       "      <td>333.000000</td>\n",
       "      <td>1.000000</td>\n",
       "      <td>120.000000</td>\n",
       "      <td>110.000000</td>\n",
       "    </tr>\n",
       "    <tr>\n",
       "      <th>50%</th>\n",
       "      <td>2.785104e+06</td>\n",
       "      <td>434.000000</td>\n",
       "      <td>1.000000</td>\n",
       "      <td>225.000000</td>\n",
       "      <td>199.000000</td>\n",
       "    </tr>\n",
       "    <tr>\n",
       "      <th>75%</th>\n",
       "      <td>2.878900e+06</td>\n",
       "      <td>712.000000</td>\n",
       "      <td>1.000000</td>\n",
       "      <td>379.000000</td>\n",
       "      <td>348.940000</td>\n",
       "    </tr>\n",
       "    <tr>\n",
       "      <th>max</th>\n",
       "      <td>2.913132e+06</td>\n",
       "      <td>980.000000</td>\n",
       "      <td>107.000000</td>\n",
       "      <td>29450.000000</td>\n",
       "      <td>29450.000000</td>\n",
       "    </tr>\n",
       "  </tbody>\n",
       "</table>\n",
       "</div>"
      ],
      "text/plain": [
       "         CustomerID     Restaurant       Quantity      SummBasic  \\\n",
       "count  8.822220e+05  882222.000000  882222.000000  882222.000000   \n",
       "mean   2.809199e+06     468.268804       1.154900     287.725795   \n",
       "std    6.178420e+04     279.170967       0.650287     264.555291   \n",
       "min    2.728046e+06      40.000000       0.000000       0.500000   \n",
       "25%    2.754886e+06     333.000000       1.000000     120.000000   \n",
       "50%    2.785104e+06     434.000000       1.000000     225.000000   \n",
       "75%    2.878900e+06     712.000000       1.000000     379.000000   \n",
       "max    2.913132e+06     980.000000     107.000000   29450.000000   \n",
       "\n",
       "       SummAfterPointsUsage  \n",
       "count         882222.000000  \n",
       "mean             260.255589  \n",
       "std              251.289517  \n",
       "min            -2593.000000  \n",
       "25%              110.000000  \n",
       "50%              199.000000  \n",
       "75%              348.940000  \n",
       "max            29450.000000  "
      ]
     },
     "execution_count": 180,
     "metadata": {},
     "output_type": "execute_result"
    }
   ],
   "source": [
    "df1.describe()"
   ]
  },
  {
   "cell_type": "markdown",
   "metadata": {},
   "source": [
    "### Удаление подозрительных строк (SummAfterPointsUsage как отриц. число)"
   ]
  },
  {
   "cell_type": "code",
   "execution_count": 181,
   "metadata": {},
   "outputs": [],
   "source": [
    "df1 = df1[df1['SummAfterPointsUsage']>0]"
   ]
  },
  {
   "cell_type": "code",
   "execution_count": 182,
   "metadata": {},
   "outputs": [
    {
     "data": {
      "text/html": [
       "<div>\n",
       "<style scoped>\n",
       "    .dataframe tbody tr th:only-of-type {\n",
       "        vertical-align: middle;\n",
       "    }\n",
       "\n",
       "    .dataframe tbody tr th {\n",
       "        vertical-align: top;\n",
       "    }\n",
       "\n",
       "    .dataframe thead th {\n",
       "        text-align: right;\n",
       "    }\n",
       "</style>\n",
       "<table border=\"1\" class=\"dataframe\">\n",
       "  <thead>\n",
       "    <tr style=\"text-align: right;\">\n",
       "      <th></th>\n",
       "      <th>CustomerID</th>\n",
       "      <th>Restaurant</th>\n",
       "      <th>Quantity</th>\n",
       "      <th>SummBasic</th>\n",
       "      <th>SummAfterPointsUsage</th>\n",
       "    </tr>\n",
       "  </thead>\n",
       "  <tbody>\n",
       "    <tr>\n",
       "      <th>count</th>\n",
       "      <td>8.822210e+05</td>\n",
       "      <td>882221.000000</td>\n",
       "      <td>882221.000000</td>\n",
       "      <td>882221.000000</td>\n",
       "      <td>882221.000000</td>\n",
       "    </tr>\n",
       "    <tr>\n",
       "      <th>mean</th>\n",
       "      <td>2.809199e+06</td>\n",
       "      <td>468.269228</td>\n",
       "      <td>1.154899</td>\n",
       "      <td>287.724840</td>\n",
       "      <td>260.258823</td>\n",
       "    </tr>\n",
       "    <tr>\n",
       "      <th>std</th>\n",
       "      <td>6.178419e+04</td>\n",
       "      <td>279.170841</td>\n",
       "      <td>0.650287</td>\n",
       "      <td>264.553921</td>\n",
       "      <td>251.271298</td>\n",
       "    </tr>\n",
       "    <tr>\n",
       "      <th>min</th>\n",
       "      <td>2.728046e+06</td>\n",
       "      <td>40.000000</td>\n",
       "      <td>0.000000</td>\n",
       "      <td>0.500000</td>\n",
       "      <td>0.250000</td>\n",
       "    </tr>\n",
       "    <tr>\n",
       "      <th>25%</th>\n",
       "      <td>2.754886e+06</td>\n",
       "      <td>333.000000</td>\n",
       "      <td>1.000000</td>\n",
       "      <td>120.000000</td>\n",
       "      <td>110.000000</td>\n",
       "    </tr>\n",
       "    <tr>\n",
       "      <th>50%</th>\n",
       "      <td>2.785104e+06</td>\n",
       "      <td>434.000000</td>\n",
       "      <td>1.000000</td>\n",
       "      <td>225.000000</td>\n",
       "      <td>199.000000</td>\n",
       "    </tr>\n",
       "    <tr>\n",
       "      <th>75%</th>\n",
       "      <td>2.878900e+06</td>\n",
       "      <td>712.000000</td>\n",
       "      <td>1.000000</td>\n",
       "      <td>379.000000</td>\n",
       "      <td>348.940000</td>\n",
       "    </tr>\n",
       "    <tr>\n",
       "      <th>max</th>\n",
       "      <td>2.913132e+06</td>\n",
       "      <td>980.000000</td>\n",
       "      <td>107.000000</td>\n",
       "      <td>29450.000000</td>\n",
       "      <td>29450.000000</td>\n",
       "    </tr>\n",
       "  </tbody>\n",
       "</table>\n",
       "</div>"
      ],
      "text/plain": [
       "         CustomerID     Restaurant       Quantity      SummBasic  \\\n",
       "count  8.822210e+05  882221.000000  882221.000000  882221.000000   \n",
       "mean   2.809199e+06     468.269228       1.154899     287.724840   \n",
       "std    6.178419e+04     279.170841       0.650287     264.553921   \n",
       "min    2.728046e+06      40.000000       0.000000       0.500000   \n",
       "25%    2.754886e+06     333.000000       1.000000     120.000000   \n",
       "50%    2.785104e+06     434.000000       1.000000     225.000000   \n",
       "75%    2.878900e+06     712.000000       1.000000     379.000000   \n",
       "max    2.913132e+06     980.000000     107.000000   29450.000000   \n",
       "\n",
       "       SummAfterPointsUsage  \n",
       "count         882221.000000  \n",
       "mean             260.258823  \n",
       "std              251.271298  \n",
       "min                0.250000  \n",
       "25%              110.000000  \n",
       "50%              199.000000  \n",
       "75%              348.940000  \n",
       "max            29450.000000  "
      ]
     },
     "execution_count": 182,
     "metadata": {},
     "output_type": "execute_result"
    }
   ],
   "source": [
    "df1.describe()"
   ]
  },
  {
   "cell_type": "markdown",
   "metadata": {},
   "source": [
    "## Группировка по покупателям"
   ]
  },
  {
   "cell_type": "code",
   "execution_count": 183,
   "metadata": {},
   "outputs": [],
   "source": [
    "df_clients = df1.groupby(df1['CustomerID'])"
   ]
  },
  {
   "cell_type": "markdown",
   "metadata": {},
   "source": [
    "### Получение T/F, тех кто был в ресторанах с 2017-07-01 по 2017-12-31"
   ]
  },
  {
   "cell_type": "code",
   "execution_count": 184,
   "metadata": {},
   "outputs": [],
   "source": [
    "df_clients2 = df_clients.apply(lambda x: any((x[\"RKDate\"] >'2017-07-01') & (x['RKDate'] < '2017-12-31')))\n",
    "#result - определение тех, кто был в те даты в ресторанах"
   ]
  },
  {
   "cell_type": "markdown",
   "metadata": {},
   "source": [
    "### Получение Recency -> (2017-07-01) - (последний приход посетителя до 2017-07-01)\n",
    "Если прихода не было, то определяем как null"
   ]
  },
  {
   "cell_type": "code",
   "execution_count": 185,
   "metadata": {},
   "outputs": [],
   "source": [
    "import numpy as np\n",
    "frompoint = pd.Timestamp('2017-07-01')\n",
    "#recency = df_clients.apply(lambda x: frompoint - max(x[\"RKDate\"] <'2017-07-01')))\n",
    "recency = df_clients.apply(lambda x: frompoint - max(x[x[\"RKDate\"]<frompoint][\"RKDate\"]) if (len(x[x[\"RKDate\"]<frompoint])>0) else np.nan)"
   ]
  },
  {
   "cell_type": "markdown",
   "metadata": {},
   "source": [
    "### Получение Frequency = (Сумма всех посещений до 2017-07-01) / (Разность между 1 датой и 2017-07-01 в месяцах)"
   ]
  },
  {
   "cell_type": "code",
   "execution_count": 186,
   "metadata": {},
   "outputs": [],
   "source": [
    "frequency = df_clients.apply(lambda x: len(x[x[\"RKDate\"]<frompoint][\"RKDate\"]) / ((frompoint - min(x[\"RKDate\"]))/np.timedelta64(1, 'M')) if ((frompoint - min(x[\"RKDate\"]))/np.timedelta64(1, 'M'))>0 else 0)"
   ]
  },
  {
   "cell_type": "markdown",
   "metadata": {},
   "source": [
    "### Получение Monetary_Value - средний чек клиента до 2017-07-01"
   ]
  },
  {
   "cell_type": "code",
   "execution_count": 187,
   "metadata": {},
   "outputs": [],
   "source": [
    "monetary_value = df_clients.apply(lambda x: sum(x[x[\"RKDate\"]<frompoint][\"SummBasic\"]) / len(x[x[\"RKDate\"]<frompoint]) if len(x[x[\"RKDate\"]<frompoint])>0 else 0)"
   ]
  },
  {
   "cell_type": "markdown",
   "metadata": {},
   "source": [
    "### Пусть еще одним параметром будет стандартное отклонение (stdev) суммы заказа до 2017-07-01\n",
    "Если заказ был только 1, то stdev -> 0"
   ]
  },
  {
   "cell_type": "code",
   "execution_count": 188,
   "metadata": {},
   "outputs": [],
   "source": [
    "import math\n",
    "std_summ = df_clients.apply(lambda x: math.sqrt(sum(((x[x[\"RKDate\"]<frompoint][\"SummBasic\"] - (sum(x[x[\"RKDate\"]<frompoint][\"SummBasic\"]) / len(x[x[\"RKDate\"]<frompoint])) if len(x[x[\"RKDate\"]<frompoint])>0 else 0))**2) / (len(x[x[\"RKDate\"]<frompoint]) - 1)) if (len(x[x[\"RKDate\"]<frompoint]) - 1 > 0) else 0)"
   ]
  },
  {
   "cell_type": "code",
   "execution_count": 189,
   "metadata": {},
   "outputs": [
    {
     "name": "stdout",
     "output_type": "stream",
     "text": [
      "CustomerID\n",
      "2728046    203.957054\n",
      "2728088    144.555511\n",
      "2728089    209.018458\n",
      "2728095    173.963685\n",
      "2728107    277.736806\n",
      "              ...    \n",
      "2913103    442.595405\n",
      "2913106    188.197483\n",
      "2913114    248.340631\n",
      "2913123    126.392808\n",
      "2913132    150.080588\n",
      "Length: 10000, dtype: float64\n"
     ]
    }
   ],
   "source": [
    "print(std_summ)"
   ]
  },
  {
   "cell_type": "markdown",
   "metadata": {},
   "source": [
    "### Recency пока что определяется как timedelta, а не число, поэтому приводим к числу:"
   ]
  },
  {
   "cell_type": "code",
   "execution_count": 190,
   "metadata": {},
   "outputs": [],
   "source": [
    "recencyMonths = recency / np.timedelta64(1, 'D')"
   ]
  },
  {
   "cell_type": "code",
   "execution_count": 191,
   "metadata": {},
   "outputs": [
    {
     "data": {
      "text/plain": [
       "CustomerID\n",
       "2728046    160.0\n",
       "2728088    720.0\n",
       "2728089     15.0\n",
       "2728095    177.0\n",
       "2728107    115.0\n",
       "           ...  \n",
       "2913103    401.0\n",
       "2913106    126.0\n",
       "2913114     95.0\n",
       "2913123      8.0\n",
       "2913132     44.0\n",
       "Length: 10000, dtype: float64"
      ]
     },
     "execution_count": 191,
     "metadata": {},
     "output_type": "execute_result"
    }
   ],
   "source": [
    "recencyMonths"
   ]
  },
  {
   "cell_type": "markdown",
   "metadata": {},
   "source": [
    "### Строим таблицу из задания 2 - [Y, Recency, Frequency, Monetary_value, Std_sum]"
   ]
  },
  {
   "cell_type": "code",
   "execution_count": 192,
   "metadata": {},
   "outputs": [],
   "source": [
    "try_dataframe = pd.DataFrame(data = {'Y': df_clients2,'Recency': recencyMonths,'Frequency': frequency,'Monetary_value': monetary_value,'Std_sum': std_summ})"
   ]
  },
  {
   "cell_type": "code",
   "execution_count": 193,
   "metadata": {},
   "outputs": [
    {
     "name": "stdout",
     "output_type": "stream",
     "text": [
      "<class 'pandas.core.frame.DataFrame'>\n",
      "Int64Index: 10000 entries, 2728046 to 2913132\n",
      "Data columns (total 5 columns):\n",
      " #   Column          Non-Null Count  Dtype  \n",
      "---  ------          --------------  -----  \n",
      " 0   Y               10000 non-null  bool   \n",
      " 1   Recency         9938 non-null   float64\n",
      " 2   Frequency       10000 non-null  float64\n",
      " 3   Monetary_value  10000 non-null  float64\n",
      " 4   Std_sum         10000 non-null  float64\n",
      "dtypes: bool(1), float64(4)\n",
      "memory usage: 400.4 KB\n"
     ]
    }
   ],
   "source": [
    "try_dataframe.info()"
   ]
  },
  {
   "cell_type": "markdown",
   "metadata": {},
   "source": [
    "### Сохраняем временную таблицу"
   ]
  },
  {
   "cell_type": "code",
   "execution_count": 194,
   "metadata": {},
   "outputs": [],
   "source": [
    "try_dataframe.to_csv(r'Temporary1.csv')"
   ]
  },
  {
   "cell_type": "markdown",
   "metadata": {},
   "source": [
    "# Обработка второго файла 'CASC_Constant.csv'"
   ]
  },
  {
   "cell_type": "code",
   "execution_count": 195,
   "metadata": {},
   "outputs": [],
   "source": [
    "df2=pd.read_csv('CASC_Constant.csv')"
   ]
  },
  {
   "cell_type": "code",
   "execution_count": 196,
   "metadata": {},
   "outputs": [
    {
     "name": "stdout",
     "output_type": "stream",
     "text": [
      "<class 'pandas.core.frame.DataFrame'>\n",
      "RangeIndex: 10000 entries, 0 to 9999\n",
      "Data columns (total 6 columns):\n",
      " #   Column           Non-Null Count  Dtype  \n",
      "---  ------           --------------  -----  \n",
      " 0   CustomerId       10000 non-null  int64  \n",
      " 1   ActivationDate   10000 non-null  object \n",
      " 2   Age              9953 non-null   float64\n",
      " 3   Sex              8874 non-null   object \n",
      " 4   SubscribedEmail  10000 non-null  bool   \n",
      " 5   SubscribedPush   10000 non-null  bool   \n",
      "dtypes: bool(2), float64(1), int64(1), object(2)\n",
      "memory usage: 332.2+ KB\n"
     ]
    }
   ],
   "source": [
    "df2.info()"
   ]
  },
  {
   "cell_type": "markdown",
   "metadata": {},
   "source": [
    "### Заменяем пустые и экстремальные значения Возраста на медиану"
   ]
  },
  {
   "cell_type": "code",
   "execution_count": 197,
   "metadata": {},
   "outputs": [],
   "source": [
    "meanAge = df2['Age'].median()"
   ]
  },
  {
   "cell_type": "code",
   "execution_count": 198,
   "metadata": {},
   "outputs": [],
   "source": [
    "df2.loc[df2.Age > 99, 'Age'] = meanAge"
   ]
  },
  {
   "cell_type": "code",
   "execution_count": 199,
   "metadata": {},
   "outputs": [],
   "source": [
    "df2['Age'] = df2['Age'].fillna(meanAge)"
   ]
  },
  {
   "cell_type": "code",
   "execution_count": 200,
   "metadata": {},
   "outputs": [
    {
     "name": "stdout",
     "output_type": "stream",
     "text": [
      "<class 'pandas.core.frame.DataFrame'>\n",
      "RangeIndex: 10000 entries, 0 to 9999\n",
      "Data columns (total 6 columns):\n",
      " #   Column           Non-Null Count  Dtype  \n",
      "---  ------           --------------  -----  \n",
      " 0   CustomerId       10000 non-null  int64  \n",
      " 1   ActivationDate   10000 non-null  object \n",
      " 2   Age              10000 non-null  float64\n",
      " 3   Sex              8874 non-null   object \n",
      " 4   SubscribedEmail  10000 non-null  bool   \n",
      " 5   SubscribedPush   10000 non-null  bool   \n",
      "dtypes: bool(2), float64(1), int64(1), object(2)\n",
      "memory usage: 332.2+ KB\n"
     ]
    }
   ],
   "source": [
    "df2.info()"
   ]
  },
  {
   "cell_type": "markdown",
   "metadata": {},
   "source": [
    "### Приводим Пол к категориальному параметру"
   ]
  },
  {
   "cell_type": "code",
   "execution_count": 201,
   "metadata": {},
   "outputs": [
    {
     "data": {
      "text/plain": [
       "Female    5141\n",
       "Male      3733\n",
       "Name: Sex, dtype: int64"
      ]
     },
     "execution_count": 201,
     "metadata": {},
     "output_type": "execute_result"
    }
   ],
   "source": [
    "df2['Sex'].value_counts()"
   ]
  },
  {
   "cell_type": "code",
   "execution_count": 202,
   "metadata": {},
   "outputs": [],
   "source": [
    "df2['Sex'] = df2['Sex'].fillna('Not_chosen')"
   ]
  },
  {
   "cell_type": "code",
   "execution_count": 203,
   "metadata": {},
   "outputs": [],
   "source": [
    "df2['Sex'] = df2['Sex'].astype('category').cat.codes"
   ]
  },
  {
   "cell_type": "code",
   "execution_count": 204,
   "metadata": {},
   "outputs": [
    {
     "name": "stdout",
     "output_type": "stream",
     "text": [
      "<class 'pandas.core.frame.DataFrame'>\n",
      "RangeIndex: 10000 entries, 0 to 9999\n",
      "Data columns (total 6 columns):\n",
      " #   Column           Non-Null Count  Dtype  \n",
      "---  ------           --------------  -----  \n",
      " 0   CustomerId       10000 non-null  int64  \n",
      " 1   ActivationDate   10000 non-null  object \n",
      " 2   Age              10000 non-null  float64\n",
      " 3   Sex              10000 non-null  int8   \n",
      " 4   SubscribedEmail  10000 non-null  bool   \n",
      " 5   SubscribedPush   10000 non-null  bool   \n",
      "dtypes: bool(2), float64(1), int64(1), int8(1), object(1)\n",
      "memory usage: 263.8+ KB\n"
     ]
    }
   ],
   "source": [
    "df2.info()"
   ]
  },
  {
   "cell_type": "code",
   "execution_count": 205,
   "metadata": {},
   "outputs": [
    {
     "data": {
      "text/plain": [
       "0    5141\n",
       "1    3733\n",
       "2    1126\n",
       "Name: Sex, dtype: int64"
      ]
     },
     "execution_count": 205,
     "metadata": {},
     "output_type": "execute_result"
    }
   ],
   "source": [
    "df2['Sex'].value_counts()"
   ]
  },
  {
   "cell_type": "markdown",
   "metadata": {},
   "source": [
    "### Удаляем ненужные столбцы, а також определяем CustomerId как индекс для Df2"
   ]
  },
  {
   "cell_type": "code",
   "execution_count": 206,
   "metadata": {},
   "outputs": [],
   "source": [
    "df2 = df2.drop('ActivationDate', 1)"
   ]
  },
  {
   "cell_type": "code",
   "execution_count": 207,
   "metadata": {},
   "outputs": [],
   "source": [
    "df2 = df2.drop(['SubscribedEmail', 'SubscribedPush'], 1)"
   ]
  },
  {
   "cell_type": "code",
   "execution_count": 208,
   "metadata": {},
   "outputs": [],
   "source": [
    "df2=df2.set_index('CustomerId')"
   ]
  },
  {
   "cell_type": "code",
   "execution_count": 209,
   "metadata": {},
   "outputs": [
    {
     "data": {
      "text/html": [
       "<div>\n",
       "<style scoped>\n",
       "    .dataframe tbody tr th:only-of-type {\n",
       "        vertical-align: middle;\n",
       "    }\n",
       "\n",
       "    .dataframe tbody tr th {\n",
       "        vertical-align: top;\n",
       "    }\n",
       "\n",
       "    .dataframe thead th {\n",
       "        text-align: right;\n",
       "    }\n",
       "</style>\n",
       "<table border=\"1\" class=\"dataframe\">\n",
       "  <thead>\n",
       "    <tr style=\"text-align: right;\">\n",
       "      <th></th>\n",
       "      <th>Age</th>\n",
       "      <th>Sex</th>\n",
       "    </tr>\n",
       "    <tr>\n",
       "      <th>CustomerId</th>\n",
       "      <th></th>\n",
       "      <th></th>\n",
       "    </tr>\n",
       "  </thead>\n",
       "  <tbody>\n",
       "    <tr>\n",
       "      <th>2728183</th>\n",
       "      <td>21.0</td>\n",
       "      <td>0</td>\n",
       "    </tr>\n",
       "    <tr>\n",
       "      <th>2728198</th>\n",
       "      <td>21.0</td>\n",
       "      <td>0</td>\n",
       "    </tr>\n",
       "    <tr>\n",
       "      <th>2728306</th>\n",
       "      <td>21.0</td>\n",
       "      <td>0</td>\n",
       "    </tr>\n",
       "    <tr>\n",
       "      <th>2728178</th>\n",
       "      <td>22.0</td>\n",
       "      <td>1</td>\n",
       "    </tr>\n",
       "    <tr>\n",
       "      <th>2728322</th>\n",
       "      <td>22.0</td>\n",
       "      <td>1</td>\n",
       "    </tr>\n",
       "    <tr>\n",
       "      <th>...</th>\n",
       "      <td>...</td>\n",
       "      <td>...</td>\n",
       "    </tr>\n",
       "    <tr>\n",
       "      <th>2912655</th>\n",
       "      <td>49.0</td>\n",
       "      <td>0</td>\n",
       "    </tr>\n",
       "    <tr>\n",
       "      <th>2912502</th>\n",
       "      <td>52.0</td>\n",
       "      <td>1</td>\n",
       "    </tr>\n",
       "    <tr>\n",
       "      <th>2912767</th>\n",
       "      <td>52.0</td>\n",
       "      <td>1</td>\n",
       "    </tr>\n",
       "    <tr>\n",
       "      <th>2912383</th>\n",
       "      <td>60.0</td>\n",
       "      <td>1</td>\n",
       "    </tr>\n",
       "    <tr>\n",
       "      <th>2912304</th>\n",
       "      <td>31.0</td>\n",
       "      <td>2</td>\n",
       "    </tr>\n",
       "  </tbody>\n",
       "</table>\n",
       "<p>10000 rows × 2 columns</p>\n",
       "</div>"
      ],
      "text/plain": [
       "             Age  Sex\n",
       "CustomerId           \n",
       "2728183     21.0    0\n",
       "2728198     21.0    0\n",
       "2728306     21.0    0\n",
       "2728178     22.0    1\n",
       "2728322     22.0    1\n",
       "...          ...  ...\n",
       "2912655     49.0    0\n",
       "2912502     52.0    1\n",
       "2912767     52.0    1\n",
       "2912383     60.0    1\n",
       "2912304     31.0    2\n",
       "\n",
       "[10000 rows x 2 columns]"
      ]
     },
     "execution_count": 209,
     "metadata": {},
     "output_type": "execute_result"
    }
   ],
   "source": [
    "df2"
   ]
  },
  {
   "cell_type": "markdown",
   "metadata": {},
   "source": [
    "## Связываем первую таблицу со второй"
   ]
  },
  {
   "cell_type": "code",
   "execution_count": 210,
   "metadata": {},
   "outputs": [],
   "source": [
    "final_table = try_dataframe.join(df2)"
   ]
  },
  {
   "cell_type": "code",
   "execution_count": 211,
   "metadata": {},
   "outputs": [
    {
     "name": "stdout",
     "output_type": "stream",
     "text": [
      "<class 'pandas.core.frame.DataFrame'>\n",
      "Int64Index: 10000 entries, 2728046 to 2913132\n",
      "Data columns (total 7 columns):\n",
      " #   Column          Non-Null Count  Dtype  \n",
      "---  ------          --------------  -----  \n",
      " 0   Y               10000 non-null  bool   \n",
      " 1   Recency         9938 non-null   float64\n",
      " 2   Frequency       10000 non-null  float64\n",
      " 3   Monetary_value  10000 non-null  float64\n",
      " 4   Std_sum         10000 non-null  float64\n",
      " 5   Age             10000 non-null  float64\n",
      " 6   Sex             10000 non-null  int8   \n",
      "dtypes: bool(1), float64(5), int8(1)\n",
      "memory usage: 808.3 KB\n"
     ]
    }
   ],
   "source": [
    "final_table.info()"
   ]
  },
  {
   "cell_type": "code",
   "execution_count": 212,
   "metadata": {},
   "outputs": [
    {
     "data": {
      "text/html": [
       "<div>\n",
       "<style scoped>\n",
       "    .dataframe tbody tr th:only-of-type {\n",
       "        vertical-align: middle;\n",
       "    }\n",
       "\n",
       "    .dataframe tbody tr th {\n",
       "        vertical-align: top;\n",
       "    }\n",
       "\n",
       "    .dataframe thead th {\n",
       "        text-align: right;\n",
       "    }\n",
       "</style>\n",
       "<table border=\"1\" class=\"dataframe\">\n",
       "  <thead>\n",
       "    <tr style=\"text-align: right;\">\n",
       "      <th></th>\n",
       "      <th>Y</th>\n",
       "      <th>Recency</th>\n",
       "      <th>Frequency</th>\n",
       "      <th>Monetary_value</th>\n",
       "      <th>Std_sum</th>\n",
       "      <th>Age</th>\n",
       "      <th>Sex</th>\n",
       "    </tr>\n",
       "    <tr>\n",
       "      <th>CustomerID</th>\n",
       "      <th></th>\n",
       "      <th></th>\n",
       "      <th></th>\n",
       "      <th></th>\n",
       "      <th></th>\n",
       "      <th></th>\n",
       "      <th></th>\n",
       "    </tr>\n",
       "  </thead>\n",
       "  <tbody>\n",
       "    <tr>\n",
       "      <th>2728046</th>\n",
       "      <td>False</td>\n",
       "      <td>160.0</td>\n",
       "      <td>1.902305</td>\n",
       "      <td>254.807018</td>\n",
       "      <td>203.957054</td>\n",
       "      <td>24.0</td>\n",
       "      <td>0</td>\n",
       "    </tr>\n",
       "    <tr>\n",
       "      <th>2728088</th>\n",
       "      <td>False</td>\n",
       "      <td>720.0</td>\n",
       "      <td>1.134708</td>\n",
       "      <td>279.647059</td>\n",
       "      <td>144.555511</td>\n",
       "      <td>46.0</td>\n",
       "      <td>1</td>\n",
       "    </tr>\n",
       "    <tr>\n",
       "      <th>2728089</th>\n",
       "      <td>True</td>\n",
       "      <td>15.0</td>\n",
       "      <td>1.101334</td>\n",
       "      <td>422.181818</td>\n",
       "      <td>209.018458</td>\n",
       "      <td>27.0</td>\n",
       "      <td>0</td>\n",
       "    </tr>\n",
       "    <tr>\n",
       "      <th>2728095</th>\n",
       "      <td>False</td>\n",
       "      <td>177.0</td>\n",
       "      <td>3.304003</td>\n",
       "      <td>289.676768</td>\n",
       "      <td>173.963685</td>\n",
       "      <td>54.0</td>\n",
       "      <td>0</td>\n",
       "    </tr>\n",
       "    <tr>\n",
       "      <th>2728107</th>\n",
       "      <td>True</td>\n",
       "      <td>115.0</td>\n",
       "      <td>0.700849</td>\n",
       "      <td>414.333333</td>\n",
       "      <td>277.736806</td>\n",
       "      <td>48.0</td>\n",
       "      <td>1</td>\n",
       "    </tr>\n",
       "  </tbody>\n",
       "</table>\n",
       "</div>"
      ],
      "text/plain": [
       "                Y  Recency  Frequency  Monetary_value     Std_sum   Age  Sex\n",
       "CustomerID                                                                  \n",
       "2728046     False    160.0   1.902305      254.807018  203.957054  24.0    0\n",
       "2728088     False    720.0   1.134708      279.647059  144.555511  46.0    1\n",
       "2728089      True     15.0   1.101334      422.181818  209.018458  27.0    0\n",
       "2728095     False    177.0   3.304003      289.676768  173.963685  54.0    0\n",
       "2728107      True    115.0   0.700849      414.333333  277.736806  48.0    1"
      ]
     },
     "execution_count": 212,
     "metadata": {},
     "output_type": "execute_result"
    }
   ],
   "source": [
    "final_table.head()"
   ]
  },
  {
   "cell_type": "markdown",
   "metadata": {},
   "source": [
    "### Выбрасываем значения, если клиент не приходил ни разу до 2017-01-01"
   ]
  },
  {
   "cell_type": "code",
   "execution_count": 213,
   "metadata": {},
   "outputs": [],
   "source": [
    "withRecencyDF = final_table.drop(final_table[final_table['Recency'].isnull()].index)"
   ]
  },
  {
   "cell_type": "code",
   "execution_count": 214,
   "metadata": {},
   "outputs": [
    {
     "name": "stdout",
     "output_type": "stream",
     "text": [
      "<class 'pandas.core.frame.DataFrame'>\n",
      "Int64Index: 9938 entries, 2728046 to 2913132\n",
      "Data columns (total 7 columns):\n",
      " #   Column          Non-Null Count  Dtype  \n",
      "---  ------          --------------  -----  \n",
      " 0   Y               9938 non-null   bool   \n",
      " 1   Recency         9938 non-null   float64\n",
      " 2   Frequency       9938 non-null   float64\n",
      " 3   Monetary_value  9938 non-null   float64\n",
      " 4   Std_sum         9938 non-null   float64\n",
      " 5   Age             9938 non-null   float64\n",
      " 6   Sex             9938 non-null   int8   \n",
      "dtypes: bool(1), float64(5), int8(1)\n",
      "memory usage: 485.3 KB\n"
     ]
    }
   ],
   "source": [
    "withRecencyDF.info()"
   ]
  },
  {
   "cell_type": "markdown",
   "metadata": {},
   "source": [
    "### Y_table - таблица зависимой переменной Y"
   ]
  },
  {
   "cell_type": "code",
   "execution_count": 215,
   "metadata": {},
   "outputs": [],
   "source": [
    "Y_table = withRecencyDF.Y"
   ]
  },
  {
   "cell_type": "code",
   "execution_count": 216,
   "metadata": {},
   "outputs": [
    {
     "data": {
      "text/plain": [
       "CustomerID\n",
       "2728046    False\n",
       "2728088    False\n",
       "2728089     True\n",
       "2728095    False\n",
       "2728107     True\n",
       "           ...  \n",
       "2913103    False\n",
       "2913106    False\n",
       "2913114    False\n",
       "2913123     True\n",
       "2913132     True\n",
       "Name: Y, Length: 9938, dtype: bool"
      ]
     },
     "execution_count": 216,
     "metadata": {},
     "output_type": "execute_result"
    }
   ],
   "source": [
    "Y_table"
   ]
  },
  {
   "cell_type": "code",
   "execution_count": 217,
   "metadata": {},
   "outputs": [],
   "source": [
    "from sklearn.model_selection import train_test_split"
   ]
  },
  {
   "cell_type": "markdown",
   "metadata": {},
   "source": [
    "### Удаляем столбец Y из таблицы параметров"
   ]
  },
  {
   "cell_type": "code",
   "execution_count": 218,
   "metadata": {},
   "outputs": [],
   "source": [
    "withRecencyDF.drop('Y', 1, inplace = True)"
   ]
  },
  {
   "cell_type": "code",
   "execution_count": 219,
   "metadata": {},
   "outputs": [
    {
     "data": {
      "text/html": [
       "<div>\n",
       "<style scoped>\n",
       "    .dataframe tbody tr th:only-of-type {\n",
       "        vertical-align: middle;\n",
       "    }\n",
       "\n",
       "    .dataframe tbody tr th {\n",
       "        vertical-align: top;\n",
       "    }\n",
       "\n",
       "    .dataframe thead th {\n",
       "        text-align: right;\n",
       "    }\n",
       "</style>\n",
       "<table border=\"1\" class=\"dataframe\">\n",
       "  <thead>\n",
       "    <tr style=\"text-align: right;\">\n",
       "      <th></th>\n",
       "      <th>Recency</th>\n",
       "      <th>Frequency</th>\n",
       "      <th>Monetary_value</th>\n",
       "      <th>Std_sum</th>\n",
       "      <th>Age</th>\n",
       "      <th>Sex</th>\n",
       "    </tr>\n",
       "    <tr>\n",
       "      <th>CustomerID</th>\n",
       "      <th></th>\n",
       "      <th></th>\n",
       "      <th></th>\n",
       "      <th></th>\n",
       "      <th></th>\n",
       "      <th></th>\n",
       "    </tr>\n",
       "  </thead>\n",
       "  <tbody>\n",
       "    <tr>\n",
       "      <th>2728046</th>\n",
       "      <td>160.0</td>\n",
       "      <td>1.902305</td>\n",
       "      <td>254.807018</td>\n",
       "      <td>203.957054</td>\n",
       "      <td>24.0</td>\n",
       "      <td>0</td>\n",
       "    </tr>\n",
       "    <tr>\n",
       "      <th>2728088</th>\n",
       "      <td>720.0</td>\n",
       "      <td>1.134708</td>\n",
       "      <td>279.647059</td>\n",
       "      <td>144.555511</td>\n",
       "      <td>46.0</td>\n",
       "      <td>1</td>\n",
       "    </tr>\n",
       "    <tr>\n",
       "      <th>2728089</th>\n",
       "      <td>15.0</td>\n",
       "      <td>1.101334</td>\n",
       "      <td>422.181818</td>\n",
       "      <td>209.018458</td>\n",
       "      <td>27.0</td>\n",
       "      <td>0</td>\n",
       "    </tr>\n",
       "    <tr>\n",
       "      <th>2728095</th>\n",
       "      <td>177.0</td>\n",
       "      <td>3.304003</td>\n",
       "      <td>289.676768</td>\n",
       "      <td>173.963685</td>\n",
       "      <td>54.0</td>\n",
       "      <td>0</td>\n",
       "    </tr>\n",
       "    <tr>\n",
       "      <th>2728107</th>\n",
       "      <td>115.0</td>\n",
       "      <td>0.700849</td>\n",
       "      <td>414.333333</td>\n",
       "      <td>277.736806</td>\n",
       "      <td>48.0</td>\n",
       "      <td>1</td>\n",
       "    </tr>\n",
       "    <tr>\n",
       "      <th>...</th>\n",
       "      <td>...</td>\n",
       "      <td>...</td>\n",
       "      <td>...</td>\n",
       "      <td>...</td>\n",
       "      <td>...</td>\n",
       "      <td>...</td>\n",
       "    </tr>\n",
       "    <tr>\n",
       "      <th>2913103</th>\n",
       "      <td>401.0</td>\n",
       "      <td>1.442331</td>\n",
       "      <td>450.307692</td>\n",
       "      <td>442.595405</td>\n",
       "      <td>32.0</td>\n",
       "      <td>2</td>\n",
       "    </tr>\n",
       "    <tr>\n",
       "      <th>2913106</th>\n",
       "      <td>126.0</td>\n",
       "      <td>6.915791</td>\n",
       "      <td>282.711230</td>\n",
       "      <td>188.197483</td>\n",
       "      <td>23.0</td>\n",
       "      <td>1</td>\n",
       "    </tr>\n",
       "    <tr>\n",
       "      <th>2913114</th>\n",
       "      <td>95.0</td>\n",
       "      <td>4.105095</td>\n",
       "      <td>345.873874</td>\n",
       "      <td>248.340631</td>\n",
       "      <td>27.0</td>\n",
       "      <td>0</td>\n",
       "    </tr>\n",
       "    <tr>\n",
       "      <th>2913123</th>\n",
       "      <td>8.0</td>\n",
       "      <td>8.580018</td>\n",
       "      <td>141.176724</td>\n",
       "      <td>126.392808</td>\n",
       "      <td>30.0</td>\n",
       "      <td>0</td>\n",
       "    </tr>\n",
       "    <tr>\n",
       "      <th>2913132</th>\n",
       "      <td>44.0</td>\n",
       "      <td>2.659533</td>\n",
       "      <td>370.222222</td>\n",
       "      <td>150.080588</td>\n",
       "      <td>26.0</td>\n",
       "      <td>0</td>\n",
       "    </tr>\n",
       "  </tbody>\n",
       "</table>\n",
       "<p>9938 rows × 6 columns</p>\n",
       "</div>"
      ],
      "text/plain": [
       "            Recency  Frequency  Monetary_value     Std_sum   Age  Sex\n",
       "CustomerID                                                           \n",
       "2728046       160.0   1.902305      254.807018  203.957054  24.0    0\n",
       "2728088       720.0   1.134708      279.647059  144.555511  46.0    1\n",
       "2728089        15.0   1.101334      422.181818  209.018458  27.0    0\n",
       "2728095       177.0   3.304003      289.676768  173.963685  54.0    0\n",
       "2728107       115.0   0.700849      414.333333  277.736806  48.0    1\n",
       "...             ...        ...             ...         ...   ...  ...\n",
       "2913103       401.0   1.442331      450.307692  442.595405  32.0    2\n",
       "2913106       126.0   6.915791      282.711230  188.197483  23.0    1\n",
       "2913114        95.0   4.105095      345.873874  248.340631  27.0    0\n",
       "2913123         8.0   8.580018      141.176724  126.392808  30.0    0\n",
       "2913132        44.0   2.659533      370.222222  150.080588  26.0    0\n",
       "\n",
       "[9938 rows x 6 columns]"
      ]
     },
     "execution_count": 219,
     "metadata": {},
     "output_type": "execute_result"
    }
   ],
   "source": [
    "withRecencyDF"
   ]
  },
  {
   "cell_type": "markdown",
   "metadata": {},
   "source": [
    "### Деление на обучающую и тестовую выборки"
   ]
  },
  {
   "cell_type": "code",
   "execution_count": 220,
   "metadata": {},
   "outputs": [],
   "source": [
    "X_train, X_test, y_train, y_test = train_test_split(withRecencyDF, Y_table, test_size=0.2, random_state=42)"
   ]
  },
  {
   "cell_type": "code",
   "execution_count": 221,
   "metadata": {},
   "outputs": [],
   "source": [
    "from sklearn.linear_model import LogisticRegression"
   ]
  },
  {
   "cell_type": "markdown",
   "metadata": {},
   "source": [
    "### Построение логистической регрессии"
   ]
  },
  {
   "cell_type": "code",
   "execution_count": 222,
   "metadata": {},
   "outputs": [],
   "source": [
    "reg_all = LogisticRegression()"
   ]
  },
  {
   "cell_type": "code",
   "execution_count": 223,
   "metadata": {},
   "outputs": [
    {
     "data": {
      "text/plain": [
       "LogisticRegression(C=1.0, class_weight=None, dual=False, fit_intercept=True,\n",
       "                   intercept_scaling=1, l1_ratio=None, max_iter=100,\n",
       "                   multi_class='auto', n_jobs=None, penalty='l2',\n",
       "                   random_state=None, solver='lbfgs', tol=0.0001, verbose=0,\n",
       "                   warm_start=False)"
      ]
     },
     "execution_count": 223,
     "metadata": {},
     "output_type": "execute_result"
    }
   ],
   "source": [
    "reg_all.fit(X_train, y_train)"
   ]
  },
  {
   "cell_type": "code",
   "execution_count": 224,
   "metadata": {},
   "outputs": [],
   "source": [
    "y_pred = reg_all.predict(X_test)"
   ]
  },
  {
   "cell_type": "markdown",
   "metadata": {},
   "source": [
    "### Подсчет параметров-метрик для оценки модели"
   ]
  },
  {
   "cell_type": "code",
   "execution_count": 225,
   "metadata": {},
   "outputs": [
    {
     "data": {
      "text/plain": [
       "0.7344064386317908"
      ]
     },
     "execution_count": 225,
     "metadata": {},
     "output_type": "execute_result"
    }
   ],
   "source": [
    "reg_all.score(X_test, y_test)"
   ]
  },
  {
   "cell_type": "code",
   "execution_count": 226,
   "metadata": {},
   "outputs": [],
   "source": [
    "from sklearn.metrics import precision_recall_fscore_support"
   ]
  },
  {
   "cell_type": "code",
   "execution_count": 227,
   "metadata": {},
   "outputs": [
    {
     "data": {
      "text/plain": [
       "(0.7370405880472994, 0.738124868139025, 0.7343287299278053, None)"
      ]
     },
     "execution_count": 227,
     "metadata": {},
     "output_type": "execute_result"
    }
   ],
   "source": [
    "precision_recall_fscore_support(y_test, y_pred, average='macro')"
   ]
  },
  {
   "cell_type": "code",
   "execution_count": 228,
   "metadata": {},
   "outputs": [],
   "source": [
    "from sklearn.metrics import classification_report"
   ]
  },
  {
   "cell_type": "code",
   "execution_count": 229,
   "metadata": {},
   "outputs": [
    {
     "name": "stdout",
     "output_type": "stream",
     "text": [
      "              precision    recall  f1-score   support\n",
      "\n",
      "       False       0.79      0.69      0.74      1077\n",
      "        True       0.68      0.78      0.73       911\n",
      "\n",
      "    accuracy                           0.73      1988\n",
      "   macro avg       0.74      0.74      0.73      1988\n",
      "weighted avg       0.74      0.73      0.73      1988\n",
      "\n"
     ]
    }
   ],
   "source": [
    "print(classification_report(y_test, y_pred))"
   ]
  },
  {
   "cell_type": "code",
   "execution_count": null,
   "metadata": {},
   "outputs": [],
   "source": []
  },
  {
   "cell_type": "code",
   "execution_count": null,
   "metadata": {},
   "outputs": [],
   "source": []
  },
  {
   "cell_type": "code",
   "execution_count": null,
   "metadata": {},
   "outputs": [],
   "source": []
  }
 ],
 "metadata": {
  "kernelspec": {
   "display_name": "Python 3",
   "language": "python",
   "name": "python3"
  },
  "language_info": {
   "codemirror_mode": {
    "name": "ipython",
    "version": 3
   },
   "file_extension": ".py",
   "mimetype": "text/x-python",
   "name": "python",
   "nbconvert_exporter": "python",
   "pygments_lexer": "ipython3",
   "version": "3.8.1"
  }
 },
 "nbformat": 4,
 "nbformat_minor": 4
}
